{
 "cells": [
  {
   "cell_type": "markdown",
   "metadata": {},
   "source": [
    "# A (Brief) Introduction to Data Science\n",
    "**CSK 2020**\n",
    "\n",
    "\n",
    "Welcome to the wild world of data science! This is a notebook designed for UC Berkeley's CS Kickstart program, specifically . Feel free to read through this lab and interact with the content.\n",
    "\n",
    "## Table of Contents\n",
    "- The Jupyter Notebook\n",
    "- \"The Data Science Life Cycle\"\n",
    "- Data Analysis \n",
    "- Hypothesis and Predictions\n",
    "- Next Steps\n",
    "\n",
    "\n",
    "# 1: The Jupyter Notebook\n",
    "[Jupyter Notebook](https://jupyter.org/) is an open-source web application that allows you to create and share documents that contain live code, equations, visualizations and narrative text. The file that we are on now is a jupyter notebook, and it's used fairly extensively in the data science industry. It consists of a series of cells that you can run in real time.\n",
    "\n",
    "\n"
   ]
  },
  {
   "cell_type": "code",
   "execution_count": 2,
   "metadata": {},
   "outputs": [],
   "source": []
  },
  {
   "cell_type": "code",
   "execution_count": null,
   "metadata": {},
   "outputs": [],
   "source": []
  },
  {
   "cell_type": "code",
   "execution_count": null,
   "metadata": {},
   "outputs": [],
   "source": []
  },
  {
   "cell_type": "code",
   "execution_count": null,
   "metadata": {},
   "outputs": [],
   "source": []
  },
  {
   "cell_type": "code",
   "execution_count": null,
   "metadata": {},
   "outputs": [],
   "source": []
  },
  {
   "cell_type": "code",
   "execution_count": null,
   "metadata": {},
   "outputs": [],
   "source": []
  },
  {
   "cell_type": "code",
   "execution_count": null,
   "metadata": {},
   "outputs": [],
   "source": []
  },
  {
   "cell_type": "markdown",
   "metadata": {},
   "source": [
    "---\n",
    "\n",
    "Developed by Catherine Gee, <>. Materials and content adapted from [*Computational and Inferential Thinking*](https://www.inferentialthinking.com/chapters/intro.html) by Ani Adihikari and John Denero. "
   ]
  }
 ],
 "metadata": {
  "kernelspec": {
   "display_name": "Python 3",
   "language": "python",
   "name": "python3"
  },
  "language_info": {
   "codemirror_mode": {
    "name": "ipython",
    "version": 3
   },
   "file_extension": ".py",
   "mimetype": "text/x-python",
   "name": "python",
   "nbconvert_exporter": "python",
   "pygments_lexer": "ipython3",
   "version": "3.6.8"
  }
 },
 "nbformat": 4,
 "nbformat_minor": 2
}
