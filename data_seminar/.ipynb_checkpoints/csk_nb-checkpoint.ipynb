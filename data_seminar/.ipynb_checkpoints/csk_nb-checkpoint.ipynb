{
 "cells": [
  {
   "cell_type": "markdown",
   "metadata": {},
   "source": [
    "<img src=\"img/CSK_banner.PNG\" alt=\"banner\">\n",
    "# A (Brief) Introduction to Data Science\n",
    "**CSK 2020**\n",
    "\n",
    "Welcome to the wild world of data science! This is a notebook designed for UC Berkeley's CS Kickstart program, specifically . Feel free to read through this lab and interact with the content.\n",
    "\n",
    "## Table of Contents\n",
    "- The Jupyter Notebook\n",
    "- \"The Data Science Life Cycle\"\n",
    "- Data Analysis \n",
    "- Hypothesis and Predictions\n",
    "- Next Steps\n",
    "\n",
    "\n",
    "# 0: The Jupyter Notebook\n",
    "[Jupyter Notebook](https://jupyter.org/) is an open-source web application that allows you to create and share documents that contain live code, equations, visualizations and narrative text. The file that we are on now is a jupyter notebook, and it's used fairly extensively in the data science industry. It consists of a series of cells that you can run in real time.\n",
    "\n",
    "Here's a quick rundown on how to use this notebook.\n",
    "\n",
    "## 0.1 Cells\n",
    "This notebook is made out of a series of cells. A cell is a multiline text input field, and its contents can be executed by using Shift-Enter, or by clicking either the “Play” button (▶|) in the toolbar, or Cell, Run in the menu bar. \n",
    "\n",
    "There are three types of cells:\n",
    "- code cells\n",
    "- markdown cells\n",
    "- raw cells\n",
    "\n",
    "You don't need to worry about the last type of cell; we'll be dealing with the first two today.\n",
    "### 0.1.1 Code Cells\n",
    "Code cells are cells where we can write and run code in python. Here's an example of a code cell, see if you can run it by pressing Shift-Enter (or Cell->Run in the menu)\n"
   ]
  },
  {
   "cell_type": "code",
   "execution_count": 49,
   "metadata": {},
   "outputs": [
    {
     "name": "stdout",
     "output_type": "stream",
     "text": [
      "hello world\n"
     ]
    }
   ],
   "source": [
    "print('hello world')"
   ]
  },
  {
   "cell_type": "markdown",
   "metadata": {},
   "source": [
    "If you ran the cell correctly, the notebook should output the words \"hello world\". Pretty neat huh?\n",
    "\n",
    "### 0.1.1 Markdown Cells\n",
    "Markdown cells are cells like this one where we can write text and have it display in the notebook. In this notebook the only time you'll have to edit these types of cells will be in some free response answers like the one below. Edit the following cell and run it to see the text!"
   ]
  },
  {
   "cell_type": "markdown",
   "metadata": {},
   "source": [
    "**Question 0.1** What's your name and favorite food?\n",
    "\n",
    "*YOUR ANSWER HERE*"
   ]
  },
  {
   "cell_type": "markdown",
   "metadata": {},
   "source": [
    "# 1.\"The Data Science Life Cycle\"\n",
    "\n",
    "The first thing we can ask ourselves about this question is \"what exactly *is* data science in the first place?\"\n",
    "\n",
    "The [data8 textbook](https://www.inferentialthinking.com/chapters/01/1/intro.html) says the following about data science.\n",
    "> Data Science is about drawing useful conclusions from large and diverse data sets through exploration, prediction, and inference. Exploration involves identifying patterns in information. Prediction involves using information we know to make informed guesses about values we wish we knew. Inference involves quantifying our degree of certainty: will the patterns that we found in our data also appear in new observations?\n",
    "\n",
    "Hopefully we can continue to develop this definition during today's lab, starting off with a concept called the \"data science life cycle.\"\n",
    "\n",
    "## 1.1 The Life Cycle, deconstructed\n",
    "The steps to the cycle are as follows: \n",
    "1. Formulating a question or problem\n",
    "2. Acquiring and cleaning data\n",
    "3. Conducting exploratory data analysis\n",
    "4. Using prediction and inference to draw conclusions\n"
   ]
  },
  {
   "cell_type": "code",
   "execution_count": 50,
   "metadata": {},
   "outputs": [],
   "source": [
    "## cleaning data real quick \n",
    "from datascience import *\n",
    "import pandas as pd \n",
    "\n",
    "by_maj = Table.read_table('data/by_major.csv')\n",
    "#bm = pd.read_csv('data/by_major.csv')\n",
    "by_min = Table.read_table('data/by_minors.csv')\n",
    "gender_ethnicity = Table.read_table('data/level_gender_ethnicity.csv')\n",
    "STEM_all = Table.read_table('data/STEM_collegewide.csv')\n",
    "STEM_major = Table.read_table('data/STEM_majors.csv')\n",
    "STEM_pipeline = Table.read_table('data/STEM_pipeline.csv')\n",
    "student_maj = Table.read_table('data/student_majors.csv')"
   ]
  },
  {
   "cell_type": "code",
   "execution_count": 51,
   "metadata": {},
   "outputs": [
    {
     "data": {
      "text/html": [
       "<table border=\"1\" class=\"dataframe\">\n",
       "    <thead>\n",
       "        <tr>\n",
       "            <th>STEM Flag</th> <th>count</th>\n",
       "        </tr>\n",
       "    </thead>\n",
       "    <tbody>\n",
       "        <tr>\n",
       "            <td>0        </td> <td>8826 </td>\n",
       "        </tr>\n",
       "        <tr>\n",
       "            <td>1        </td> <td>9199 </td>\n",
       "        </tr>\n",
       "    </tbody>\n",
       "</table>"
      ],
      "text/plain": [
       "STEM Flag | count\n",
       "0         | 8826\n",
       "1         | 9199"
      ]
     },
     "execution_count": 51,
     "metadata": {},
     "output_type": "execute_result"
    }
   ],
   "source": [
    "stem_gender = by_maj.select(['STEM Flag', 'Gender'])\n",
    "stem_gender.group('STEM Flag')"
   ]
  },
  {
   "cell_type": "code",
   "execution_count": 60,
   "metadata": {},
   "outputs": [],
   "source": [
    "t = stem_gender.where('STEM Flag', 0).group('Gender')"
   ]
  },
  {
   "cell_type": "code",
   "execution_count": 61,
   "metadata": {},
   "outputs": [],
   "source": [
    "t.bar('Gender', 'count')"
   ]
  },
  {
   "cell_type": "raw",
   "metadata": {},
   "source": []
  },
  {
   "cell_type": "code",
   "execution_count": null,
   "metadata": {},
   "outputs": [],
   "source": []
  },
  {
   "cell_type": "code",
   "execution_count": null,
   "metadata": {},
   "outputs": [],
   "source": []
  },
  {
   "cell_type": "code",
   "execution_count": 54,
   "metadata": {},
   "outputs": [
    {
     "data": {
      "text/html": [
       "<table border=\"1\" class=\"dataframe\">\n",
       "    <thead>\n",
       "        <tr>\n",
       "            <th>Academic Yr</th> <th>Degree Level Desc</th> <th>Person Gender Desc</th> <th>Ucb Level1 Ethnic Rollup Desc</th> <th>Headcount</th>\n",
       "        </tr>\n",
       "    </thead>\n",
       "    <tbody>\n",
       "        <tr>\n",
       "            <td>2011-12    </td> <td>Bachelor         </td> <td>Female            </td> <td>Asian/Pacific Islander       </td> <td>1524     </td>\n",
       "        </tr>\n",
       "        <tr>\n",
       "            <td>2011-12    </td> <td>Bachelor         </td> <td>Female            </td> <td>International                </td> <td>254      </td>\n",
       "        </tr>\n",
       "        <tr>\n",
       "            <td>2011-12    </td> <td>Bachelor         </td> <td>Female            </td> <td>Underrepresented Minority    </td> <td>656      </td>\n",
       "        </tr>\n",
       "        <tr>\n",
       "            <td>2011-12    </td> <td>Bachelor         </td> <td>Female            </td> <td>White/Other                  </td> <td>1452     </td>\n",
       "        </tr>\n",
       "        <tr>\n",
       "            <td>2011-12    </td> <td>Bachelor         </td> <td>Male              </td> <td>Asian/Pacific Islander       </td> <td>1310     </td>\n",
       "        </tr>\n",
       "        <tr>\n",
       "            <td>2011-12    </td> <td>Bachelor         </td> <td>Male              </td> <td>International                </td> <td>280      </td>\n",
       "        </tr>\n",
       "        <tr>\n",
       "            <td>2011-12    </td> <td>Bachelor         </td> <td>Male              </td> <td>Underrepresented Minority    </td> <td>447      </td>\n",
       "        </tr>\n",
       "        <tr>\n",
       "            <td>2011-12    </td> <td>Bachelor         </td> <td>Male              </td> <td>White/Other                  </td> <td>1390     </td>\n",
       "        </tr>\n",
       "        <tr>\n",
       "            <td>2011-12    </td> <td>Doctoral         </td> <td>Female            </td> <td>Asian/Pacific Islander       </td> <td>61       </td>\n",
       "        </tr>\n",
       "        <tr>\n",
       "            <td>2011-12    </td> <td>Doctoral         </td> <td>Female            </td> <td>International                </td> <td>62       </td>\n",
       "        </tr>\n",
       "    </tbody>\n",
       "</table>\n",
       "<p>... (201 rows omitted)</p>"
      ],
      "text/plain": [
       "Academic Yr | Degree Level Desc | Person Gender Desc | Ucb Level1 Ethnic Rollup Desc | Headcount\n",
       "2011-12     | Bachelor          | Female             | Asian/Pacific Islander        | 1524\n",
       "2011-12     | Bachelor          | Female             | International                 | 254\n",
       "2011-12     | Bachelor          | Female             | Underrepresented Minority     | 656\n",
       "2011-12     | Bachelor          | Female             | White/Other                   | 1452\n",
       "2011-12     | Bachelor          | Male               | Asian/Pacific Islander        | 1310\n",
       "2011-12     | Bachelor          | Male               | International                 | 280\n",
       "2011-12     | Bachelor          | Male               | Underrepresented Minority     | 447\n",
       "2011-12     | Bachelor          | Male               | White/Other                   | 1390\n",
       "2011-12     | Doctoral          | Female             | Asian/Pacific Islander        | 61\n",
       "2011-12     | Doctoral          | Female             | International                 | 62\n",
       "... (201 rows omitted)"
      ]
     },
     "execution_count": 54,
     "metadata": {},
     "output_type": "execute_result"
    }
   ],
   "source": [
    "gender_ethnicity"
   ]
  },
  {
   "cell_type": "code",
   "execution_count": 55,
   "metadata": {},
   "outputs": [
    {
     "data": {
      "text/html": [
       "<table border=\"1\" class=\"dataframe\">\n",
       "    <thead>\n",
       "        <tr>\n",
       "            <th>Year</th> <th>Institution</th> <th>Type</th> <th>Gender</th> <th>CIP Fld</th> <th>Degree Count</th>\n",
       "        </tr>\n",
       "    </thead>\n",
       "    <tbody>\n",
       "        <tr>\n",
       "            <td>2016-17</td> <td>Harvard    </td> <td>Private</td> <td>Female</td> <td>Archeology                                </td> <td>5           </td>\n",
       "        </tr>\n",
       "        <tr>\n",
       "            <td>2016-17</td> <td>Harvard    </td> <td>Private</td> <td>Female</td> <td>Behavioral Sciences                       </td> <td>11          </td>\n",
       "        </tr>\n",
       "        <tr>\n",
       "            <td>2016-17</td> <td>Harvard    </td> <td>Private</td> <td>Female</td> <td>Biological and Biomedical Sciences        </td> <td>164         </td>\n",
       "        </tr>\n",
       "        <tr>\n",
       "            <td>2016-17</td> <td>Harvard    </td> <td>Private</td> <td>Female</td> <td>Cognitive Psychology and Psycholinguistics</td> <td>0           </td>\n",
       "        </tr>\n",
       "        <tr>\n",
       "            <td>2016-17</td> <td>Harvard    </td> <td>Private</td> <td>Female</td> <td>Computer Science                          </td> <td>65          </td>\n",
       "        </tr>\n",
       "        <tr>\n",
       "            <td>2016-17</td> <td>Harvard    </td> <td>Private</td> <td>Female</td> <td>Engineering                               </td> <td>26          </td>\n",
       "        </tr>\n",
       "        <tr>\n",
       "            <td>2016-17</td> <td>Harvard    </td> <td>Private</td> <td>Female</td> <td>Environmental Studies                     </td> <td>14          </td>\n",
       "        </tr>\n",
       "        <tr>\n",
       "            <td>2016-17</td> <td>Harvard    </td> <td>Private</td> <td>Female</td> <td>Experimental Psychology                   </td> <td>87          </td>\n",
       "        </tr>\n",
       "        <tr>\n",
       "            <td>2016-17</td> <td>Harvard    </td> <td>Private</td> <td>Female</td> <td>Mathematics and Statistics                </td> <td>78          </td>\n",
       "        </tr>\n",
       "        <tr>\n",
       "            <td>2016-17</td> <td>Harvard    </td> <td>Private</td> <td>Female</td> <td>Natural Sciences                          </td> <td>10          </td>\n",
       "        </tr>\n",
       "    </tbody>\n",
       "</table>\n",
       "<p>... (278 rows omitted)</p>"
      ],
      "text/plain": [
       "Year    | Institution | Type    | Gender | CIP Fld                                    | Degree Count\n",
       "2016-17 | Harvard     | Private | Female | Archeology                                 | 5\n",
       "2016-17 | Harvard     | Private | Female | Behavioral Sciences                        | 11\n",
       "2016-17 | Harvard     | Private | Female | Biological and Biomedical Sciences         | 164\n",
       "2016-17 | Harvard     | Private | Female | Cognitive Psychology and Psycholinguistics | 0\n",
       "2016-17 | Harvard     | Private | Female | Computer Science                           | 65\n",
       "2016-17 | Harvard     | Private | Female | Engineering                                | 26\n",
       "2016-17 | Harvard     | Private | Female | Environmental Studies                      | 14\n",
       "2016-17 | Harvard     | Private | Female | Experimental Psychology                    | 87\n",
       "2016-17 | Harvard     | Private | Female | Mathematics and Statistics                 | 78\n",
       "2016-17 | Harvard     | Private | Female | Natural Sciences                           | 10\n",
       "... (278 rows omitted)"
      ]
     },
     "execution_count": 55,
     "metadata": {},
     "output_type": "execute_result"
    }
   ],
   "source": [
    "STEM_all"
   ]
  },
  {
   "cell_type": "code",
   "execution_count": 56,
   "metadata": {},
   "outputs": [
    {
     "data": {
      "text/html": [
       "<table border=\"1\" class=\"dataframe\">\n",
       "    <thead>\n",
       "        <tr>\n",
       "            <th>Semester</th> <th>STEM Flg</th> <th>CIP Field</th> <th>Gender</th> <th>Ethnicity</th> <th>Headcount</th>\n",
       "        </tr>\n",
       "    </thead>\n",
       "    <tbody>\n",
       "        <tr>\n",
       "            <td>Spring 2020</td> <td>Not STEM</td> <td>Not STEM                          </td> <td>All Other Students</td> <td>Asian/Pacific Islander   </td> <td>547      </td>\n",
       "        </tr>\n",
       "        <tr>\n",
       "            <td>Spring 2020</td> <td>Not STEM</td> <td>Not STEM                          </td> <td>All Other Students</td> <td>International            </td> <td>200      </td>\n",
       "        </tr>\n",
       "        <tr>\n",
       "            <td>Spring 2020</td> <td>Not STEM</td> <td>Not STEM                          </td> <td>All Other Students</td> <td>Underrepresented Minority</td> <td>707      </td>\n",
       "        </tr>\n",
       "        <tr>\n",
       "            <td>Spring 2020</td> <td>Not STEM</td> <td>Not STEM                          </td> <td>All Other Students</td> <td>White/Other              </td> <td>827      </td>\n",
       "        </tr>\n",
       "        <tr>\n",
       "            <td>Spring 2020</td> <td>Not STEM</td> <td>Not STEM                          </td> <td>Female            </td> <td>Asian/Pacific Islander   </td> <td>1,201    </td>\n",
       "        </tr>\n",
       "        <tr>\n",
       "            <td>Spring 2020</td> <td>Not STEM</td> <td>Not STEM                          </td> <td>Female            </td> <td>International            </td> <td>296      </td>\n",
       "        </tr>\n",
       "        <tr>\n",
       "            <td>Spring 2020</td> <td>Not STEM</td> <td>Not STEM                          </td> <td>Female            </td> <td>Underrepresented Minority</td> <td>1,419    </td>\n",
       "        </tr>\n",
       "        <tr>\n",
       "            <td>Spring 2020</td> <td>Not STEM</td> <td>Not STEM                          </td> <td>Female            </td> <td>White/Other              </td> <td>1,386    </td>\n",
       "        </tr>\n",
       "        <tr>\n",
       "            <td>Spring 2020</td> <td>STEM    </td> <td>Biological And Biomedical Sciences</td> <td>All Other Students</td> <td>Asian/Pacific Islander   </td> <td>343      </td>\n",
       "        </tr>\n",
       "        <tr>\n",
       "            <td>Spring 2020</td> <td>STEM    </td> <td>Biological And Biomedical Sciences</td> <td>All Other Students</td> <td>International            </td> <td>37       </td>\n",
       "        </tr>\n",
       "    </tbody>\n",
       "</table>\n",
       "<p>... (70 rows omitted)</p>"
      ],
      "text/plain": [
       "Semester    | STEM Flg | CIP Field                          | Gender             | Ethnicity                 | Headcount\n",
       "Spring 2020 | Not STEM | Not STEM                           | All Other Students | Asian/Pacific Islander    | 547\n",
       "Spring 2020 | Not STEM | Not STEM                           | All Other Students | International             | 200\n",
       "Spring 2020 | Not STEM | Not STEM                           | All Other Students | Underrepresented Minority | 707\n",
       "Spring 2020 | Not STEM | Not STEM                           | All Other Students | White/Other               | 827\n",
       "Spring 2020 | Not STEM | Not STEM                           | Female             | Asian/Pacific Islander    | 1,201\n",
       "Spring 2020 | Not STEM | Not STEM                           | Female             | International             | 296\n",
       "Spring 2020 | Not STEM | Not STEM                           | Female             | Underrepresented Minority | 1,419\n",
       "Spring 2020 | Not STEM | Not STEM                           | Female             | White/Other               | 1,386\n",
       "Spring 2020 | STEM     | Biological And Biomedical Sciences | All Other Students | Asian/Pacific Islander    | 343\n",
       "Spring 2020 | STEM     | Biological And Biomedical Sciences | All Other Students | International             | 37\n",
       "... (70 rows omitted)"
      ]
     },
     "execution_count": 56,
     "metadata": {},
     "output_type": "execute_result"
    }
   ],
   "source": [
    "STEM_major"
   ]
  },
  {
   "cell_type": "code",
   "execution_count": 57,
   "metadata": {},
   "outputs": [
    {
     "data": {
      "text/html": [
       "<table border=\"1\" class=\"dataframe\">\n",
       "    <thead>\n",
       "        <tr>\n",
       "            <th>Timepoint</th> <th>STEM Flg</th> <th>Applicant Type</th> <th>Gender</th> <th>Ethnicity</th> <th>Headcount</th>\n",
       "        </tr>\n",
       "    </thead>\n",
       "    <tbody>\n",
       "        <tr>\n",
       "            <td>Admitted </td> <td>Not STEM</td> <td>Freshman Entrant</td> <td>All Other Students</td> <td>Asian/Pacific Islander   </td> <td>7,391    </td>\n",
       "        </tr>\n",
       "        <tr>\n",
       "            <td>Admitted </td> <td>Not STEM</td> <td>Freshman Entrant</td> <td>All Other Students</td> <td>International            </td> <td>2,207    </td>\n",
       "        </tr>\n",
       "        <tr>\n",
       "            <td>Admitted </td> <td>Not STEM</td> <td>Freshman Entrant</td> <td>All Other Students</td> <td>Underrepresented Minority</td> <td>4,433    </td>\n",
       "        </tr>\n",
       "        <tr>\n",
       "            <td>Admitted </td> <td>Not STEM</td> <td>Freshman Entrant</td> <td>All Other Students</td> <td>White/Other              </td> <td>9,147    </td>\n",
       "        </tr>\n",
       "        <tr>\n",
       "            <td>Admitted </td> <td>Not STEM</td> <td>Freshman Entrant</td> <td>Female            </td> <td>Asian/Pacific Islander   </td> <td>12,700   </td>\n",
       "        </tr>\n",
       "        <tr>\n",
       "            <td>Admitted </td> <td>Not STEM</td> <td>Freshman Entrant</td> <td>Female            </td> <td>International            </td> <td>3,333    </td>\n",
       "        </tr>\n",
       "        <tr>\n",
       "            <td>Admitted </td> <td>Not STEM</td> <td>Freshman Entrant</td> <td>Female            </td> <td>Underrepresented Minority</td> <td>8,718    </td>\n",
       "        </tr>\n",
       "        <tr>\n",
       "            <td>Admitted </td> <td>Not STEM</td> <td>Freshman Entrant</td> <td>Female            </td> <td>White/Other              </td> <td>12,933   </td>\n",
       "        </tr>\n",
       "        <tr>\n",
       "            <td>Admitted </td> <td>Not STEM</td> <td>Transfer Entrant</td> <td>All Other Students</td> <td>Asian/Pacific Islander   </td> <td>1,961    </td>\n",
       "        </tr>\n",
       "        <tr>\n",
       "            <td>Admitted </td> <td>Not STEM</td> <td>Transfer Entrant</td> <td>All Other Students</td> <td>International            </td> <td>1,090    </td>\n",
       "        </tr>\n",
       "    </tbody>\n",
       "</table>\n",
       "<p>... (150 rows omitted)</p>"
      ],
      "text/plain": [
       "Timepoint | STEM Flg | Applicant Type   | Gender             | Ethnicity                 | Headcount\n",
       "Admitted  | Not STEM | Freshman Entrant | All Other Students | Asian/Pacific Islander    | 7,391\n",
       "Admitted  | Not STEM | Freshman Entrant | All Other Students | International             | 2,207\n",
       "Admitted  | Not STEM | Freshman Entrant | All Other Students | Underrepresented Minority | 4,433\n",
       "Admitted  | Not STEM | Freshman Entrant | All Other Students | White/Other               | 9,147\n",
       "Admitted  | Not STEM | Freshman Entrant | Female             | Asian/Pacific Islander    | 12,700\n",
       "Admitted  | Not STEM | Freshman Entrant | Female             | International             | 3,333\n",
       "Admitted  | Not STEM | Freshman Entrant | Female             | Underrepresented Minority | 8,718\n",
       "Admitted  | Not STEM | Freshman Entrant | Female             | White/Other               | 12,933\n",
       "Admitted  | Not STEM | Transfer Entrant | All Other Students | Asian/Pacific Islander    | 1,961\n",
       "Admitted  | Not STEM | Transfer Entrant | All Other Students | International             | 1,090\n",
       "... (150 rows omitted)"
      ]
     },
     "execution_count": 57,
     "metadata": {},
     "output_type": "execute_result"
    }
   ],
   "source": [
    "STEM_pipeline"
   ]
  },
  {
   "cell_type": "code",
   "execution_count": 58,
   "metadata": {},
   "outputs": [
    {
     "data": {
      "text/html": [
       "<table border=\"1\" class=\"dataframe\">\n",
       "    <thead>\n",
       "        <tr>\n",
       "            <th>Academic Yr</th> <th>Ungrad Grad Cd</th> <th>Term/Year</th> <th>Term Period</th> <th>College/School</th> <th>Division</th> <th>Department</th> <th>Major</th> <th>Gender</th> <th>Ethnicity</th> <th>Headcount</th> <th>Prorated Headcount</th> <th>Number of Records</th> <th>Entry Status Desc</th> <th>MajorShort</th> <th>STEM Flag</th> <th>Residency Status Desc</th> <th>Residency Fee Cd</th>\n",
       "        </tr>\n",
       "    </thead>\n",
       "    <tbody>\n",
       "        <tr>\n",
       "            <td>2018-19    </td> <td>Graduate      </td> <td>2018 Fall</td> <td>Fall       </td> <td>Clg of Chemistry</td> <td>Clg of Chemistry</td> <td>Chem & Biomolecular Eng</td> <td>Chemical Engineering</td> <td>Female</td> <td>Asian/Pacific Islander   </td> <td>10       </td> <td>10                </td> <td>1                </td> <td>Graduate         </td> <td>Chem Eng  </td> <td>STEM     </td> <td>CA Resident          </td> <td>CA Resident          </td>\n",
       "        </tr>\n",
       "        <tr>\n",
       "            <td>2018-19    </td> <td>Graduate      </td> <td>2018 Fall</td> <td>Fall       </td> <td>Clg of Chemistry</td> <td>Clg of Chemistry</td> <td>Chem & Biomolecular Eng</td> <td>Chemical Engineering</td> <td>Female</td> <td>Asian/Pacific Islander   </td> <td>7        </td> <td>7                 </td> <td>1                </td> <td>Graduate         </td> <td>Chem Eng  </td> <td>STEM     </td> <td>Out-of-State Domestic</td> <td>Out-of-State Domestic</td>\n",
       "        </tr>\n",
       "        <tr>\n",
       "            <td>2018-19    </td> <td>Graduate      </td> <td>2018 Fall</td> <td>Fall       </td> <td>Clg of Chemistry</td> <td>Clg of Chemistry</td> <td>Chem & Biomolecular Eng</td> <td>Chemical Engineering</td> <td>Female</td> <td>International            </td> <td>18       </td> <td>18                </td> <td>1                </td> <td>Graduate         </td> <td>Chem Eng  </td> <td>STEM     </td> <td>International        </td> <td>International        </td>\n",
       "        </tr>\n",
       "        <tr>\n",
       "            <td>2018-19    </td> <td>Graduate      </td> <td>2018 Fall</td> <td>Fall       </td> <td>Clg of Chemistry</td> <td>Clg of Chemistry</td> <td>Chem & Biomolecular Eng</td> <td>Chemical Engineering</td> <td>Female</td> <td>Underrepresented Minority</td> <td>3        </td> <td>3                 </td> <td>1                </td> <td>Graduate         </td> <td>Chem Eng  </td> <td>STEM     </td> <td>CA Resident          </td> <td>CA Resident          </td>\n",
       "        </tr>\n",
       "        <tr>\n",
       "            <td>2018-19    </td> <td>Graduate      </td> <td>2018 Fall</td> <td>Fall       </td> <td>Clg of Chemistry</td> <td>Clg of Chemistry</td> <td>Chem & Biomolecular Eng</td> <td>Chemical Engineering</td> <td>Female</td> <td>Underrepresented Minority</td> <td>1        </td> <td>1                 </td> <td>1                </td> <td>Graduate         </td> <td>Chem Eng  </td> <td>STEM     </td> <td>Out-of-State Domestic</td> <td>Out-of-State Domestic</td>\n",
       "        </tr>\n",
       "        <tr>\n",
       "            <td>2018-19    </td> <td>Graduate      </td> <td>2018 Fall</td> <td>Fall       </td> <td>Clg of Chemistry</td> <td>Clg of Chemistry</td> <td>Chem & Biomolecular Eng</td> <td>Chemical Engineering</td> <td>Female</td> <td>White/Other              </td> <td>22       </td> <td>22                </td> <td>1                </td> <td>Graduate         </td> <td>Chem Eng  </td> <td>STEM     </td> <td>CA Resident          </td> <td>CA Resident          </td>\n",
       "        </tr>\n",
       "        <tr>\n",
       "            <td>2018-19    </td> <td>Graduate      </td> <td>2018 Fall</td> <td>Fall       </td> <td>Clg of Chemistry</td> <td>Clg of Chemistry</td> <td>Chem & Biomolecular Eng</td> <td>Chemical Engineering</td> <td>Female</td> <td>White/Other              </td> <td>5        </td> <td>5                 </td> <td>1                </td> <td>Graduate         </td> <td>Chem Eng  </td> <td>STEM     </td> <td>Out-of-State Domestic</td> <td>Out-of-State Domestic</td>\n",
       "        </tr>\n",
       "        <tr>\n",
       "            <td>2018-19    </td> <td>Graduate      </td> <td>2018 Fall</td> <td>Fall       </td> <td>Clg of Chemistry</td> <td>Clg of Chemistry</td> <td>Chem & Biomolecular Eng</td> <td>Chemical Engineering</td> <td>Male  </td> <td>Asian/Pacific Islander   </td> <td>16       </td> <td>16                </td> <td>1                </td> <td>Graduate         </td> <td>Chem Eng  </td> <td>STEM     </td> <td>CA Resident          </td> <td>CA Resident          </td>\n",
       "        </tr>\n",
       "        <tr>\n",
       "            <td>2018-19    </td> <td>Graduate      </td> <td>2018 Fall</td> <td>Fall       </td> <td>Clg of Chemistry</td> <td>Clg of Chemistry</td> <td>Chem & Biomolecular Eng</td> <td>Chemical Engineering</td> <td>Male  </td> <td>Asian/Pacific Islander   </td> <td>1        </td> <td>1                 </td> <td>1                </td> <td>Graduate         </td> <td>Chem Eng  </td> <td>STEM     </td> <td>Out-of-State Domestic</td> <td>CA Resident          </td>\n",
       "        </tr>\n",
       "        <tr>\n",
       "            <td>2018-19    </td> <td>Graduate      </td> <td>2018 Fall</td> <td>Fall       </td> <td>Clg of Chemistry</td> <td>Clg of Chemistry</td> <td>Chem & Biomolecular Eng</td> <td>Chemical Engineering</td> <td>Male  </td> <td>Asian/Pacific Islander   </td> <td>6        </td> <td>6                 </td> <td>1                </td> <td>Graduate         </td> <td>Chem Eng  </td> <td>STEM     </td> <td>Out-of-State Domestic</td> <td>Out-of-State Domestic</td>\n",
       "        </tr>\n",
       "    </tbody>\n",
       "</table>\n",
       "<p>... (85053 rows omitted)</p>"
      ],
      "text/plain": [
       "Academic Yr | Ungrad Grad Cd | Term/Year | Term Period | College/School   | Division         | Department              | Major                | Gender | Ethnicity                 | Headcount | Prorated Headcount | Number of Records | Entry Status Desc | MajorShort | STEM Flag | Residency Status Desc | Residency Fee Cd\n",
       "2018-19     | Graduate       | 2018 Fall | Fall        | Clg of Chemistry | Clg of Chemistry | Chem & Biomolecular Eng | Chemical Engineering | Female | Asian/Pacific Islander    | 10        | 10                 | 1                 | Graduate          | Chem Eng   | STEM      | CA Resident           | CA Resident\n",
       "2018-19     | Graduate       | 2018 Fall | Fall        | Clg of Chemistry | Clg of Chemistry | Chem & Biomolecular Eng | Chemical Engineering | Female | Asian/Pacific Islander    | 7         | 7                  | 1                 | Graduate          | Chem Eng   | STEM      | Out-of-State Domestic | Out-of-State Domestic\n",
       "2018-19     | Graduate       | 2018 Fall | Fall        | Clg of Chemistry | Clg of Chemistry | Chem & Biomolecular Eng | Chemical Engineering | Female | International             | 18        | 18                 | 1                 | Graduate          | Chem Eng   | STEM      | International         | International\n",
       "2018-19     | Graduate       | 2018 Fall | Fall        | Clg of Chemistry | Clg of Chemistry | Chem & Biomolecular Eng | Chemical Engineering | Female | Underrepresented Minority | 3         | 3                  | 1                 | Graduate          | Chem Eng   | STEM      | CA Resident           | CA Resident\n",
       "2018-19     | Graduate       | 2018 Fall | Fall        | Clg of Chemistry | Clg of Chemistry | Chem & Biomolecular Eng | Chemical Engineering | Female | Underrepresented Minority | 1         | 1                  | 1                 | Graduate          | Chem Eng   | STEM      | Out-of-State Domestic | Out-of-State Domestic\n",
       "2018-19     | Graduate       | 2018 Fall | Fall        | Clg of Chemistry | Clg of Chemistry | Chem & Biomolecular Eng | Chemical Engineering | Female | White/Other               | 22        | 22                 | 1                 | Graduate          | Chem Eng   | STEM      | CA Resident           | CA Resident\n",
       "2018-19     | Graduate       | 2018 Fall | Fall        | Clg of Chemistry | Clg of Chemistry | Chem & Biomolecular Eng | Chemical Engineering | Female | White/Other               | 5         | 5                  | 1                 | Graduate          | Chem Eng   | STEM      | Out-of-State Domestic | Out-of-State Domestic\n",
       "2018-19     | Graduate       | 2018 Fall | Fall        | Clg of Chemistry | Clg of Chemistry | Chem & Biomolecular Eng | Chemical Engineering | Male   | Asian/Pacific Islander    | 16        | 16                 | 1                 | Graduate          | Chem Eng   | STEM      | CA Resident           | CA Resident\n",
       "2018-19     | Graduate       | 2018 Fall | Fall        | Clg of Chemistry | Clg of Chemistry | Chem & Biomolecular Eng | Chemical Engineering | Male   | Asian/Pacific Islander    | 1         | 1                  | 1                 | Graduate          | Chem Eng   | STEM      | Out-of-State Domestic | CA Resident\n",
       "2018-19     | Graduate       | 2018 Fall | Fall        | Clg of Chemistry | Clg of Chemistry | Chem & Biomolecular Eng | Chemical Engineering | Male   | Asian/Pacific Islander    | 6         | 6                  | 1                 | Graduate          | Chem Eng   | STEM      | Out-of-State Domestic | Out-of-State Domestic\n",
       "... (85053 rows omitted)"
      ]
     },
     "execution_count": 58,
     "metadata": {},
     "output_type": "execute_result"
    }
   ],
   "source": [
    "student_maj"
   ]
  },
  {
   "cell_type": "code",
   "execution_count": null,
   "metadata": {},
   "outputs": [],
   "source": []
  },
  {
   "cell_type": "markdown",
   "metadata": {},
   "source": [
    "# 2. Data Analysis"
   ]
  },
  {
   "cell_type": "code",
   "execution_count": null,
   "metadata": {},
   "outputs": [],
   "source": []
  },
  {
   "cell_type": "markdown",
   "metadata": {},
   "source": [
    "# 3. Hypothesis and Prediction"
   ]
  },
  {
   "cell_type": "code",
   "execution_count": null,
   "metadata": {},
   "outputs": [],
   "source": []
  },
  {
   "cell_type": "markdown",
   "metadata": {},
   "source": [
    "# 4. Next Steps"
   ]
  },
  {
   "cell_type": "code",
   "execution_count": null,
   "metadata": {},
   "outputs": [],
   "source": []
  },
  {
   "cell_type": "markdown",
   "metadata": {},
   "source": [
    "---\n",
    "\n",
    "Developed by Catherine Gee, <>. \n",
    "\n",
    "Materials and content adapted from [*Computational and Inferential Thinking*](https://www.inferentialthinking.com/chapters/intro.html) by Ani Adihikari and John Denero; [*Principles and Techniques of Data Science*](https://www.textbook.ds100.org/intro.html) by Sam Lau, Joey Gonzalez, and Deb Nolan. "
   ]
  },
  {
   "cell_type": "code",
   "execution_count": null,
   "metadata": {},
   "outputs": [],
   "source": []
  }
 ],
 "metadata": {
  "kernelspec": {
   "display_name": "Python 3",
   "language": "python",
   "name": "python3"
  },
  "language_info": {
   "codemirror_mode": {
    "name": "ipython",
    "version": 3
   },
   "file_extension": ".py",
   "mimetype": "text/x-python",
   "name": "python",
   "nbconvert_exporter": "python",
   "pygments_lexer": "ipython3",
   "version": "3.6.8"
  }
 },
 "nbformat": 4,
 "nbformat_minor": 2
}
