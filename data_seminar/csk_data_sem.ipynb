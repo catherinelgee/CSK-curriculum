{
 "cells": [
  {
   "cell_type": "markdown",
   "metadata": {},
   "source": [
    "<img src=\"img/CSK_banner.PNG\" alt=\"banner\">\n",
    "# A (Brief) Introduction to Data Science\n",
    "**CSK 2020**\n",
    "\n",
    "Welcome to the wild world of data science! This is a notebook designed for UC Berkeley's CS Kickstart program, specifically . Feel free to read through this lab and interact with the content.\n",
    "\n",
    "## Table of Contents\n",
    "- The Jupyter Notebook\n",
    "- \"The Data Science Life Cycle\"\n",
    "- Data Analysis \n",
    "- Hypothesis and Predictions\n",
    "- Next Steps\n",
    "\n",
    "\n",
    "# 0: The Jupyter Notebook\n",
    "[Jupyter Notebook](https://jupyter.org/) is an open-source web application that allows you to create and share documents that contain live code, equations, visualizations and narrative text. The file that we are on now is a jupyter notebook, and it's used fairly extensively in the data science industry. It consists of a series of cells that you can run in real time.\n",
    "\n",
    "Here's a quick rundown on how to use this notebook.\n",
    "\n",
    "## 0.1 Cells\n",
    "This notebook is made out of a series of cells. A cell is a multiline text input field, and its contents can be executed by using Shift-Enter, or by clicking either the “Play” button (▶|) in the toolbar, or Cell, Run in the menu bar. \n",
    "\n",
    "There are three types of cells:\n",
    "- code cells\n",
    "- markdown cells\n",
    "- raw cells\n",
    "\n",
    "You don't need to worry about the last type of cell; we'll be dealing with the first two today.\n",
    "### 0.1.1 Code Cells\n",
    "Code cells are cells where we can write and run code in python. Here's an example of a code cell, see if you can run it by pressing Shift-Enter (or Cell->Run in the menu)\n"
   ]
  },
  {
   "cell_type": "code",
   "execution_count": 49,
   "metadata": {},
   "outputs": [
    {
     "name": "stdout",
     "output_type": "stream",
     "text": [
      "hello world\n"
     ]
    }
   ],
   "source": [
    "print('hello world')"
   ]
  },
  {
   "cell_type": "markdown",
   "metadata": {},
   "source": [
    "If you ran the cell correctly, the notebook should output the words \"hello world\". Pretty neat huh?\n",
    "\n",
    "### 0.1.1 Markdown Cells\n",
    "Markdown cells are cells like this one where we can write text and have it display in the notebook. In this notebook the only time you'll have to edit these types of cells will be in some free response answers like the one below. Edit the following cell and run it to see the text!"
   ]
  },
  {
   "cell_type": "markdown",
   "metadata": {},
   "source": [
    "**Question 0.1** What's your name and favorite food?\n",
    "\n",
    "*YOUR ANSWER HERE*"
   ]
  },
  {
   "cell_type": "markdown",
   "metadata": {},
   "source": [
    "# 1.\"The Data Science Life Cycle\"\n",
    "\n",
    "The first thing we can ask ourselves about this question is \"what exactly *is* data science in the first place?\"\n",
    "\n",
    "The [data8 textbook](https://www.inferentialthinking.com/chapters/01/1/intro.html) says the following about data science.\n",
    "> Data Science is about drawing useful conclusions from large and diverse data sets through exploration, prediction, and inference. Exploration involves identifying patterns in information. Prediction involves using information we know to make informed guesses about values we wish we knew. Inference involves quantifying our degree of certainty: will the patterns that we found in our data also appear in new observations?\n",
    "\n",
    "Hopefully we can continue to develop this definition during today's lab, starting off with a concept called the \"data science life cycle.\"\n",
    "\n",
    "## 1.1 The Life Cycle, deconstructed\n",
    "The steps to the cycle are as follows: \n",
    "1. Formulating a question or problem\n",
    "2. Acquiring and cleaning data\n",
    "3. Conducting exploratory data analysis\n",
    "4. Using prediction and inference to draw conclusions\n",
    "\n",
    "In our following examples we are going to look at some data from UC Berkeley! \n"
   ]
  },
  {
   "cell_type": "code",
   "execution_count": 71,
   "metadata": {},
   "outputs": [],
   "source": [
    "# Necessary things we need to import that makes our data show up\n",
    "import matplotlib\n",
    "from datascience import *\n",
    "%matplotlib inline\n",
    "import matplotlib.pyplot as plt\n",
    "import numpy as np"
   ]
  },
  {
   "cell_type": "code",
   "execution_count": 72,
   "metadata": {},
   "outputs": [],
   "source": [
    "# IMPORT THE DATA\n",
    "by_maj = Table.read_table('data/by_major.csv') #creates a table from some data I downloaded\n",
    "student_maj = Table.read_table('data/student_majors.csv')"
   ]
  },
  {
   "cell_type": "markdown",
   "metadata": {},
   "source": [
    "We haven't necessarily formed a question or a problem yet other than what does the data of the population at UC Berkeley look like but that's totally fine!\n",
    "\n",
    "We will go through a small process of cleaning and then looking at the data next! (Since we took the time to load it all into our variables)"
   ]
  },
  {
   "cell_type": "markdown",
   "metadata": {},
   "source": [
    "# 2. Data Analysis"
   ]
  },
  {
   "cell_type": "markdown",
   "metadata": {},
   "source": [
    "The first step of any good data science project is **EDA** (**E**xploratory **D**ata **A**nalysis). Basically, you summarize their main characteristics of the data set in order to understand the data more, and to find directions to formulate predictions in. So let's jump in and do some EDA with the Berkeley majors dataset!\n",
    "\n",
    "## 2.1 Student Majors and Basic Table Operations\n",
    "We should first start off by taking a look at some of the data. We can look at the first _x_ rows of a table _t_ by using the following line: \n",
    "`t.show(x)`"
   ]
  },
  {
   "cell_type": "code",
   "execution_count": 1,
   "metadata": {},
   "outputs": [],
   "source": [
    "# let's see what the data looks like\n"
   ]
  },
  {
   "cell_type": "markdown",
   "metadata": {},
   "source": [
    "Taking a look at the first 5 rows shows us that this dataset is kinda large, and we're not interested in every single column, so let's remove some of the stuff here. \n",
    "\n",
    "To remove columns you can use `t.drop([labels])` or `t.drop(label)` where you can input a list of column names to get rid of or just one. Be careful because when you use this, it will give you a **new table** and not change your original!"
   ]
  },
  {
   "cell_type": "code",
   "execution_count": 2,
   "metadata": {},
   "outputs": [],
   "source": [
    "# keeping only the interesting columns, and dropping the others\n",
    "# make sure to reassign!\n",
    "todelete = [\"Term Period\", \"Division\", \"Department\", \"Prorated Headcount\", \"Number of Records\",\n",
    "                              \"Entry Status Desc\", \"Major\", \"Residency Status Desc\", \"Residency Fee Cd\"]\n"
   ]
  },
  {
   "cell_type": "code",
   "execution_count": 3,
   "metadata": {},
   "outputs": [],
   "source": [
    "# we can look at our new student_maj now\n"
   ]
  },
  {
   "cell_type": "markdown",
   "metadata": {},
   "source": [
    "Great! This is much more readable. Suppose now we want to only look at the undergraduate population. How would we go about doing this? \n",
    "\n",
    "Well first we need a way to single out all the rows that tell us if the group is an undergrad or not. After a quick survey it looks like we can find this information in the \"Ungrad Grad Cd\" column! We can now use `t.where(label, condition)` to see when a column will equal true for certain values. "
   ]
  },
  {
   "cell_type": "code",
   "execution_count": 4,
   "metadata": {},
   "outputs": [],
   "source": [
    "# filtering out the grad students and removing the undergrad/grad column\n",
    "# notice how we have two operations in a row: this is called \"chaining\" statements\n",
    "undergrad_maj = ... #where\n",
    "undergrad_maj = ... #drop\n"
   ]
  },
  {
   "cell_type": "markdown",
   "metadata": {},
   "source": [
    "Much better! Now let's look at some of the basic attributes of our dataset. For example, let's see how many STEM vs. nonSTEM majors there are. Notice that we can't just look at the *number* of rows that have a STEM flag, since the `headcount` column can have values of more than 1 (this means 1 row could represent more than 1 individual). \n",
    "\n",
    "We are going to use a table functions called `.select(labels)` and `.group(label)` that will do this for us. First `t.select(label)` will select a column with that label. It then combines all the rows with certain attributes when we use `t.group(label)`."
   ]
  },
  {
   "cell_type": "code",
   "execution_count": 5,
   "metadata": {},
   "outputs": [],
   "source": [
    "# selecting our columns of interest, STEM Flag and Headcount\n",
    "stem_sum = ...\n"
   ]
  },
  {
   "cell_type": "code",
   "execution_count": 6,
   "metadata": {},
   "outputs": [],
   "source": [
    "# grouping all the STEM and Not STEM together and summing the headcounts\n"
   ]
  },
  {
   "cell_type": "markdown",
   "metadata": {},
   "source": [
    "Now its your turn! Pick variable(s) you're interest in and fill in the blanks to count how many people are in each group. Then *uncomment* the line by deleting the pound (#) sign and run the cell!"
   ]
  },
  {
   "cell_type": "code",
   "execution_count": 89,
   "metadata": {},
   "outputs": [],
   "source": [
    "# undergrad_maj.select(______________, \"Headcount\").group(__________, sum)"
   ]
  },
  {
   "cell_type": "markdown",
   "metadata": {},
   "source": [
    "## 2.2 Graphing and Visualization\n",
    "\n",
    "Now that we have a grasp on how we can look at and manipulate data, let's figure out how to graph it! \n",
    "\n",
    "Using the data we \"cleaned\" above let's look at the female population @ Cal."
   ]
  },
  {
   "cell_type": "code",
   "execution_count": 7,
   "metadata": {},
   "outputs": [],
   "source": [
    "#let's look at student majors who are only female\n",
    "fem_majors = ...\n"
   ]
  },
  {
   "cell_type": "code",
   "execution_count": 92,
   "metadata": {},
   "outputs": [
    {
     "data": {
      "text/html": [
       "<table border=\"1\" class=\"dataframe\">\n",
       "    <thead>\n",
       "        <tr>\n",
       "            <th>MajorShort</th> <th>Headcount sum</th>\n",
       "        </tr>\n",
       "    </thead>\n",
       "    <tbody>\n",
       "        <tr>\n",
       "            <td>Afr Am Stds    </td> <td>756          </td>\n",
       "        </tr>\n",
       "        <tr>\n",
       "            <td>Afr Am Stds-Hum</td> <td>4.5          </td>\n",
       "        </tr>\n",
       "        <tr>\n",
       "            <td>Afr Am Stds-SS </td> <td>3            </td>\n",
       "        </tr>\n",
       "        <tr>\n",
       "            <td>Ag&Env Chem    </td> <td>9            </td>\n",
       "        </tr>\n",
       "        <tr>\n",
       "            <td>Ag&Res Econ    </td> <td>781.5        </td>\n",
       "        </tr>\n",
       "    </tbody>\n",
       "</table>\n",
       "<p>... (227 rows omitted)</p>"
      ],
      "text/plain": [
       "<IPython.core.display.HTML object>"
      ]
     },
     "metadata": {},
     "output_type": "display_data"
    }
   ],
   "source": [
    "todelete = ['Academic Yr sum', 'Ungrad Grad Cd sum', 'Term/Year sum', \n",
    "            'College/School sum', 'Gender sum', 'Ethnicity sum', 'STEM Flag sum']\n",
    "getcount = ...\n"
   ]
  },
  {
   "cell_type": "markdown",
   "metadata": {},
   "source": [
    "We now have a count of how many undergraduate and graduate female identifying students combined there is for each major. It's fun to read a list of numbers, but it's more interesting to look at a **bar graph**, so let's learn how to do that now. \n",
    "\n",
    "We can use `t.barh(label)` to see a horizontal bar graph of all the rows in our data, where the y axis is the Major and the x axis will be the count. "
   ]
  },
  {
   "cell_type": "code",
   "execution_count": 8,
   "metadata": {},
   "outputs": [],
   "source": [
    "#let's look at the bar graph\n"
   ]
  },
  {
   "cell_type": "markdown",
   "metadata": {},
   "source": [
    "As we can see though, this graph is far too large to be useful to anyone! Let's use a new table operation called `.sort(label)` to look at the data a little more closely. We are also going to use `take[]` which allows us to select a number of **rows** instead of columns. "
   ]
  },
  {
   "cell_type": "code",
   "execution_count": 11,
   "metadata": {},
   "outputs": [],
   "source": [
    "#let's get the top 6 majors that are\n",
    "topfive = ...\n"
   ]
  },
  {
   "cell_type": "code",
   "execution_count": 136,
   "metadata": {},
   "outputs": [],
   "source": [
    "#this cell breaks the code but you can remove the first row\n",
    "#topfive.remove([0])\n",
    "#topfive.show(5)"
   ]
  },
  {
   "cell_type": "code",
   "execution_count": 10,
   "metadata": {},
   "outputs": [],
   "source": [
    "#graph of topfive, why does it look like the way it does?\n"
   ]
  },
  {
   "cell_type": "markdown",
   "metadata": {},
   "source": [
    "Now, this graph might seem a little boring because the numbers are so similiar, so let's look at some other graphs that aren't so similiar in numbers! First let's get a count of the STEM vs NonSTEM students."
   ]
  },
  {
   "cell_type": "code",
   "execution_count": 141,
   "metadata": {},
   "outputs": [
    {
     "data": {
      "text/html": [
       "<table border=\"1\" class=\"dataframe\">\n",
       "    <thead>\n",
       "        <tr>\n",
       "            <th>STEM Flag</th> <th>count</th>\n",
       "        </tr>\n",
       "    </thead>\n",
       "    <tbody>\n",
       "        <tr>\n",
       "            <td>0        </td> <td>8826 </td>\n",
       "        </tr>\n",
       "        <tr>\n",
       "            <td>1        </td> <td>9199 </td>\n",
       "        </tr>\n",
       "    </tbody>\n",
       "</table>"
      ],
      "text/plain": [
       "STEM Flag | count\n",
       "0         | 8826\n",
       "1         | 9199"
      ]
     },
     "execution_count": 141,
     "metadata": {},
     "output_type": "execute_result"
    }
   ],
   "source": [
    "stem_gender = ... #this selects our stem and gender columns\n"
   ]
  },
  {
   "cell_type": "markdown",
   "metadata": {},
   "source": [
    "We now want to look at the numbers for STEM vs nonSTEM across gender. We can do this by doing a similiar process as above where we are going to group both the `STEM Flag` as well as `Gender`"
   ]
  },
  {
   "cell_type": "code",
   "execution_count": 12,
   "metadata": {
    "scrolled": true
   },
   "outputs": [],
   "source": [
    "stem_majors = ... #we can group by multiple columns (STEM Flag, Gender)\n"
   ]
  },
  {
   "cell_type": "code",
   "execution_count": 13,
   "metadata": {},
   "outputs": [],
   "source": [
    "#do the same for nonSTEM\n",
    "non_stem_majors = ...\n"
   ]
  },
  {
   "cell_type": "code",
   "execution_count": 14,
   "metadata": {},
   "outputs": [],
   "source": [
    "#separate into stem and non-stem majors by gender\n",
    "stem_majors = ... #using where! \n",
    "non_stem_majors = ...\n",
    "\n",
    "#graph gender distribution between stem vs. non-stem majors\n",
    "#stem_majors.select(['Gender', 'count']).barh('Gender')\n",
    "#non_stem_majors.select(['Gender', 'count']).barh('Gender')"
   ]
  },
  {
   "cell_type": "markdown",
   "metadata": {},
   "source": [
    "Here we can see that there are more male indentifying individuals in the STEM majors, but more female identifying individuals in the nonSTEM majors! What might this mean and what might it indicate? "
   ]
  },
  {
   "cell_type": "code",
   "execution_count": 15,
   "metadata": {},
   "outputs": [],
   "source": [
    "stem = ...#by_maj.where('STEM Flag', 1).where('College/School', 'Clg of Letters & Science').group('Major')\n",
    "#stem.barh('Major')"
   ]
  },
  {
   "cell_type": "markdown",
   "metadata": {},
   "source": [
    "Congrats! We've successfully graphed our data! \n",
    "\n",
    "Now, as an aside, let's do a demo of some other types of plots. We've gone over **bar plots** but let's look at some other types of graphs. "
   ]
  },
  {
   "cell_type": "code",
   "execution_count": 150,
   "metadata": {},
   "outputs": [
    {
     "data": {
      "text/html": [
       "<table border=\"1\" class=\"dataframe\">\n",
       "    <thead>\n",
       "        <tr>\n",
       "            <th>Species</th> <th>Brain</th> <th>Body</th> <th>Gestation</th> <th>Litter</th>\n",
       "        </tr>\n",
       "    </thead>\n",
       "    <tbody>\n",
       "        <tr>\n",
       "            <td>Aardvark        </td> <td>9.6  </td> <td>2.2 </td> <td>31       </td> <td>5     </td>\n",
       "        </tr>\n",
       "        <tr>\n",
       "            <td>Acouchis        </td> <td>9.9  </td> <td>0.78</td> <td>98       </td> <td>1.2   </td>\n",
       "        </tr>\n",
       "        <tr>\n",
       "            <td>African elephant</td> <td>4480 </td> <td>2800</td> <td>655      </td> <td>1     </td>\n",
       "        </tr>\n",
       "        <tr>\n",
       "            <td>Agoutis         </td> <td>20.3 </td> <td>2.8 </td> <td>104      </td> <td>1.3   </td>\n",
       "        </tr>\n",
       "        <tr>\n",
       "            <td>Axis deer       </td> <td>219  </td> <td>89  </td> <td>218      </td> <td>1     </td>\n",
       "        </tr>\n",
       "        <tr>\n",
       "            <td>Badger          </td> <td>53   </td> <td>6   </td> <td>60       </td> <td>2.2   </td>\n",
       "        </tr>\n",
       "        <tr>\n",
       "            <td>Barbary sheep   </td> <td>210  </td> <td>66  </td> <td>158      </td> <td>1.2   </td>\n",
       "        </tr>\n",
       "        <tr>\n",
       "            <td>Barking deer    </td> <td>124  </td> <td>16  </td> <td>183      </td> <td>1.1   </td>\n",
       "        </tr>\n",
       "        <tr>\n",
       "            <td>Bat-eared fox   </td> <td>28.5 </td> <td>3.2 </td> <td>65       </td> <td>4     </td>\n",
       "        </tr>\n",
       "        <tr>\n",
       "            <td>Beaked whale    </td> <td>500  </td> <td>250 </td> <td>240      </td> <td>1.8   </td>\n",
       "        </tr>\n",
       "    </tbody>\n",
       "</table>\n",
       "<p>... (86 rows omitted)</p>"
      ],
      "text/plain": [
       "<IPython.core.display.HTML object>"
      ]
     },
     "metadata": {},
     "output_type": "display_data"
    }
   ],
   "source": [
    "brain = Table.read_table('data/brains.csv')\n",
    "brain.show(10)"
   ]
  },
  {
   "cell_type": "code",
   "execution_count": 16,
   "metadata": {},
   "outputs": [],
   "source": [
    "#scatter plot of brain size to body size\n",
    "todelete = ['Species', 'Gestation', 'Litter']\n",
    "toplot = ...\n",
    "#scatter the plot!!"
   ]
  },
  {
   "cell_type": "markdown",
   "metadata": {},
   "source": [
    "This is an example of the **scatterplot**, a type of graph that lets you see **associations** and relationships really easily. It also allows you to see **outliers**, which we can see in this data by the giant body/brain size all the way in the right corner! We put a line of best fit which can help us look at what kind of association there might be. In this case it looks like a positive line, so there's a rough positive association."
   ]
  },
  {
   "cell_type": "code",
   "execution_count": 151,
   "metadata": {},
   "outputs": [
    {
     "data": {
      "text/html": [
       "<table border=\"1\" class=\"dataframe\">\n",
       "    <thead>\n",
       "        <tr>\n",
       "            <th>days</th> <th>bobas consumed</th>\n",
       "        </tr>\n",
       "    </thead>\n",
       "    <tbody>\n",
       "        <tr>\n",
       "            <td>0   </td> <td>0             </td>\n",
       "        </tr>\n",
       "        <tr>\n",
       "            <td>1   </td> <td>1             </td>\n",
       "        </tr>\n",
       "        <tr>\n",
       "            <td>2   </td> <td>2             </td>\n",
       "        </tr>\n",
       "        <tr>\n",
       "            <td>3   </td> <td>2             </td>\n",
       "        </tr>\n",
       "        <tr>\n",
       "            <td>4   </td> <td>1             </td>\n",
       "        </tr>\n",
       "        <tr>\n",
       "            <td>5   </td> <td>3             </td>\n",
       "        </tr>\n",
       "    </tbody>\n",
       "</table>"
      ],
      "text/plain": [
       "<IPython.core.display.HTML object>"
      ]
     },
     "metadata": {},
     "output_type": "display_data"
    }
   ],
   "source": [
    "#line plot demo\n",
    "lineplot = Table().with_columns(\n",
    "    'days',  make_array(0, 1, 2, 3, 4, 5),\n",
    "    'bobas consumed', make_array(0, 1, 2, 2, 1, 3))\n",
    "\n",
    "lineplot.show()"
   ]
  },
  {
   "cell_type": "code",
   "execution_count": 17,
   "metadata": {},
   "outputs": [],
   "source": [
    "#we can make a regular line plot\n"
   ]
  },
  {
   "cell_type": "markdown",
   "metadata": {},
   "source": [
    "This is an example of a **line plot** at it graphs numerical data that is sequential in nature. You can see here that the days progress, so it indicates that there's some type of relationship between each day. This is opposed to the scatterplot, where you can assume that each point in the graph is separate from another. "
   ]
  },
  {
   "cell_type": "markdown",
   "metadata": {},
   "source": [
    "# 4. Next Steps\n",
    "\n",
    "<img src=\"img/cal_data.png\" alt=\"image of how data ties into COVID response\" style=\"height: 4in;\">"
   ]
  },
  {
   "cell_type": "markdown",
   "metadata": {},
   "source": [
    "## Data Science @ UC Berkeley\n",
    "\n",
    "There are a ton of ways to get involved with different data science opportunities at Berkeley!\n",
    "\n",
    "- **Clubs** - Data Science Society at Berkeley, Opportunity Through Data, Big Data at Berkeley, Data Bears, Launchpad...you can find out more about different data science-focused student organizations on [Callink](https://callink.berkeley.edu/organizations) or Facebook!<br>\n",
    "- **Course staff** - You can help teach the data science classes you've completed! [Data 8](http://data8.org/), the intro to data science class, is always in need of course staff because it's such a massive course. Lab assisting/tutoring/TAing is an awesome way to keep engaging with the material and get some really valuable experience teaching and helping students out. Plus, depending on what role you're hired for on course staff, you can get paid!<br>\n",
    "- **URAP** - Cal runs the [Undergraduate Research Apprentice Program](https://urap.berkeley.edu/) every semester, with both new and continuing projects. It's a great opportunity to get hands-on experience working with faculty and/or grad students and learn how data science can be applied to a ton of different academic fields!<br>\n",
    "- **Division of Data Science** - [The Division](https://data.berkeley.edu/) offers all sorts of helpful resources for students interested in data science, like peer advising where you can talk to other undergraduates for advice, conceptual help, and planning out your data science courses.<br>\n",
    "- **Data Scholars** - [Data Scholars](https://data.berkeley.edu/academics/resources/data-scholars) is a program run by the Division that's dedicated to providing mentorship, prep, interview tips, resources, and so much more for minorities (like women!) in data science to introduce and prepare them to intern or work in industry.<br>\n",
    "- **D-Lab** - [The D-Lab](https://dlab.berkeley.edu/) runs technical workshops almost every weekday about a wide variety of data science + computer science concepts and applications, from programming language introduction crash courses to natural language processing to neural networks. Check out their [calendar](https://dlab.berkeley.edu/calendar-node-field-date) to see what kinds of workshops they're offering soon!<br>\n",
    "\n",
    "## Data Science in the World \n",
    "\n",
    "Data science is an increasingly popular field due to its interdisciplinary nature and the vast amount of potential applications. \n",
    "\n",
    "Here are just a few of the applications of data science with other fields:\n",
    "- **Autonomous cars** are using data science applications to collect data on traffic flow, driver behavior, and more to improve self-driving technology as much as possible. \n",
    "- Data science can also be used in **healthcare** to detect and diagnose diseases earlier, to curate individual recommendations based on wearable technology sensors, and to improve the accuracy of diagnoses. \n",
    "- Incorporating data science skills into **public safety** can help catch criminals through facial recognition analysis, increase the accuracy of forensics, as well as limit racial bias and discrimination. \n",
    "- Data science also has lots of intersection with **environmental sustainability**, tracking climate change across the world to mitigate its negative impact. \n",
    "\n",
    "Data science as a field has so many opportunities and intersects with nearly every other field. Having the analysis and technical skills will allow you to conduct research and create recommendations to solve almost any problem. \n"
   ]
  },
  {
   "cell_type": "markdown",
   "metadata": {},
   "source": [
    "---\n",
    "\n",
    "Developed by Catherine Gee, Sherry Fan, Anita Shen, Crystal Wang, Varsha Madapoosi. \n",
    "\n",
    "Materials and content adapted from [*Computational and Inferential Thinking*](https://www.inferentialthinking.com/chapters/intro.html) by Ani Adihikari and John Denero; [*Principles and Techniques of Data Science*](https://www.textbook.ds100.org/intro.html) by Sam Lau, Joey Gonzalez, and Deb Nolan. "
   ]
  },
  {
   "cell_type": "code",
   "execution_count": null,
   "metadata": {},
   "outputs": [],
   "source": []
  }
 ],
 "metadata": {
  "kernelspec": {
   "display_name": "Python 3",
   "language": "python",
   "name": "python3"
  },
  "language_info": {
   "codemirror_mode": {
    "name": "ipython",
    "version": 3
   },
   "file_extension": ".py",
   "mimetype": "text/x-python",
   "name": "python",
   "nbconvert_exporter": "python",
   "pygments_lexer": "ipython3",
   "version": "3.6.8"
  }
 },
 "nbformat": 4,
 "nbformat_minor": 2
}
