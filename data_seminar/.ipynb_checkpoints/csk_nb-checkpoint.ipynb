{
 "cells": [
  {
   "cell_type": "markdown",
   "metadata": {},
   "source": [
    "# A (Brief) Introduction to Data Science\n",
    "**CSK 2020**\n",
    "\n",
    "![CSK banner](/img/CSK_banner.PNG)\n",
    "\n",
    "\n",
    "Welcome to the wild world of data science! This is a notebook designed for UC Berkeley's CS Kickstart program, specifically . Feel free to read through this lab and interact with the content.\n",
    "\n",
    "## Table of Contents\n",
    "- The Jupyter Notebook\n",
    "- \"The Data Science Life Cycle\"\n",
    "- Data Analysis \n",
    "- Hypothesis and Predictions\n",
    "- Next Steps\n",
    "\n",
    "\n",
    "# 0: The Jupyter Notebook\n",
    "[Jupyter Notebook](https://jupyter.org/) is an open-source web application that allows you to create and share documents that contain live code, equations, visualizations and narrative text. The file that we are on now is a jupyter notebook, and it's used fairly extensively in the data science industry. It consists of a series of cells that you can run in real time.\n",
    "\n",
    "Here's a quick rundown on how to use this notebook.\n",
    "\n",
    "## Cells\n",
    "This notebook is made out of a series of cells. A cell is a multiline text input field, and its contents can be executed by using Shift-Enter, or by clicking either the “Play” button (▶|) in the toolbar, or Cell, Run in the menu bar. \n",
    "\n",
    "There are three types of cells:\n",
    "- code cells\n",
    "- markdown cells\n",
    "- raw cells\n",
    "\n",
    "### Code Cells\n",
    "Code cells are cells where we can write and run code in python. Here's an example of a code cell, see if you can run it by pressing Shift-Enter (or Cell->Run in the menu)\n"
   ]
  },
  {
   "cell_type": "code",
   "execution_count": 2,
   "metadata": {},
   "outputs": [],
   "source": [
    "print('hello world')"
   ]
  },
  {
   "cell_type": "markdown",
   "metadata": {},
   "source": [
    "If you ran the cell correctly, the notebook should output the words \"hello world\". Pretty neat huh?\n",
    "\n",
    "### Markdown Cells\n",
    "Markdown cells are cells like this one where we can write text and have it display in the notebook. In this notebook the only time you'll have to edit these types of cells will be in some free response answers like the one below. Edit the following cell and run it to see the text!"
   ]
  },
  {
   "cell_type": "markdown",
   "metadata": {},
   "source": [
    "**Question 0.** What's your name and favorite food?\n",
    "\n",
    "*YOUR ANSWER HERE*"
   ]
  },
  {
   "cell_type": "code",
   "execution_count": null,
   "metadata": {},
   "outputs": [],
   "source": []
  },
  {
   "cell_type": "code",
   "execution_count": null,
   "metadata": {},
   "outputs": [],
   "source": []
  },
  {
   "cell_type": "code",
   "execution_count": null,
   "metadata": {},
   "outputs": [],
   "source": []
  },
  {
   "cell_type": "code",
   "execution_count": null,
   "metadata": {},
   "outputs": [],
   "source": []
  },
  {
   "cell_type": "markdown",
   "metadata": {},
   "source": [
    "---\n",
    "\n",
    "Developed by Catherine Gee, <>. Materials and content adapted from [*Computational and Inferential Thinking*](https://www.inferentialthinking.com/chapters/intro.html) by Ani Adihikari and John Denero. "
   ]
  }
 ],
 "metadata": {
  "kernelspec": {
   "display_name": "Python 3",
   "language": "python",
   "name": "python3"
  },
  "language_info": {
   "codemirror_mode": {
    "name": "ipython",
    "version": 3
   },
   "file_extension": ".py",
   "mimetype": "text/x-python",
   "name": "python",
   "nbconvert_exporter": "python",
   "pygments_lexer": "ipython3",
   "version": "3.6.8"
  }
 },
 "nbformat": 4,
 "nbformat_minor": 2
}
